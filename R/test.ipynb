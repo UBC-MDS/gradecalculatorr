{
 "cells": [
  {
   "cell_type": "code",
   "execution_count": 1,
   "id": "39d39ed8-4444-4a7c-bc47-0b5d713c6edd",
   "metadata": {},
   "outputs": [
    {
     "name": "stderr",
     "output_type": "stream",
     "text": [
      "Loading required package: usethis\n",
      "\n"
     ]
    }
   ],
   "source": [
    "library(readr)\n",
    "library(tidyr)\n",
    "library(devtools)\n",
    "#library(testthat)"
   ]
  },
  {
   "cell_type": "code",
   "execution_count": 2,
   "id": "28913d79-f0e4-4909-b5fc-47f476f160e0",
   "metadata": {},
   "outputs": [],
   "source": [
    "course_csv <- tibble(\n",
    "    \"Components\" = c(\"Assignment 1\", \n",
    "                     \"Assignment 2\", \n",
    "                     \"Quiz 1\", \"Quiz 2\",\n",
    "                     \"Midterm 1\", \"Final\"),\n",
    "    \"Weights (%)\" = c(5, 5, 15, 15, 20, 40),\n",
    "    \"Grades (%)\" = c(NA, NA, NA, NA, NA, NA)\n",
    ")"
   ]
  },
  {
   "cell_type": "code",
   "execution_count": 3,
   "id": "2cc310a7-873a-4399-874c-eda2f8792a8e",
   "metadata": {},
   "outputs": [
    {
     "data": {
      "text/html": [
       "<table class=\"dataframe\">\n",
       "<caption>A tibble: 6 × 3</caption>\n",
       "<thead>\n",
       "\t<tr><th scope=col>Components</th><th scope=col>Weights (%)</th><th scope=col>Grades (%)</th></tr>\n",
       "\t<tr><th scope=col>&lt;chr&gt;</th><th scope=col>&lt;dbl&gt;</th><th scope=col>&lt;lgl&gt;</th></tr>\n",
       "</thead>\n",
       "<tbody>\n",
       "\t<tr><td>Assignment 1</td><td> 5</td><td>NA</td></tr>\n",
       "\t<tr><td>Assignment 2</td><td> 5</td><td>NA</td></tr>\n",
       "\t<tr><td>Quiz 1      </td><td>15</td><td>NA</td></tr>\n",
       "\t<tr><td>Quiz 2      </td><td>15</td><td>NA</td></tr>\n",
       "\t<tr><td>Midterm 1   </td><td>20</td><td>NA</td></tr>\n",
       "\t<tr><td>Final       </td><td>40</td><td>NA</td></tr>\n",
       "</tbody>\n",
       "</table>\n"
      ],
      "text/latex": [
       "A tibble: 6 × 3\n",
       "\\begin{tabular}{lll}\n",
       " Components & Weights (\\%) & Grades (\\%)\\\\\n",
       " <chr> & <dbl> & <lgl>\\\\\n",
       "\\hline\n",
       "\t Assignment 1 &  5 & NA\\\\\n",
       "\t Assignment 2 &  5 & NA\\\\\n",
       "\t Quiz 1       & 15 & NA\\\\\n",
       "\t Quiz 2       & 15 & NA\\\\\n",
       "\t Midterm 1    & 20 & NA\\\\\n",
       "\t Final        & 40 & NA\\\\\n",
       "\\end{tabular}\n"
      ],
      "text/markdown": [
       "\n",
       "A tibble: 6 × 3\n",
       "\n",
       "| Components &lt;chr&gt; | Weights (%) &lt;dbl&gt; | Grades (%) &lt;lgl&gt; |\n",
       "|---|---|---|\n",
       "| Assignment 1 |  5 | NA |\n",
       "| Assignment 2 |  5 | NA |\n",
       "| Quiz 1       | 15 | NA |\n",
       "| Quiz 2       | 15 | NA |\n",
       "| Midterm 1    | 20 | NA |\n",
       "| Final        | 40 | NA |\n",
       "\n"
      ],
      "text/plain": [
       "  Components   Weights (%) Grades (%)\n",
       "1 Assignment 1  5          NA        \n",
       "2 Assignment 2  5          NA        \n",
       "3 Quiz 1       15          NA        \n",
       "4 Quiz 2       15          NA        \n",
       "5 Midterm 1    20          NA        \n",
       "6 Final        40          NA        "
      ]
     },
     "metadata": {},
     "output_type": "display_data"
    }
   ],
   "source": [
    "course_csv"
   ]
  },
  {
   "cell_type": "code",
   "execution_count": 4,
   "id": "ed81cc38-385b-490e-ac26-b7fde0d7bc0c",
   "metadata": {},
   "outputs": [],
   "source": [
    "###############"
   ]
  },
  {
   "cell_type": "code",
   "execution_count": 5,
   "id": "15139de0-ba19-48ed-89fc-62bdbecb1170",
   "metadata": {},
   "outputs": [
    {
     "data": {
      "text/html": [
       "'/Users/shirley/Desktop/DSCI524_collabsoft/gradecalculatorr/R'"
      ],
      "text/latex": [
       "'/Users/shirley/Desktop/DSCI524\\_collabsoft/gradecalculatorr/R'"
      ],
      "text/markdown": [
       "'/Users/shirley/Desktop/DSCI524_collabsoft/gradecalculatorr/R'"
      ],
      "text/plain": [
       "[1] \"/Users/shirley/Desktop/DSCI524_collabsoft/gradecalculatorr/R\""
      ]
     },
     "metadata": {},
     "output_type": "display_data"
    }
   ],
   "source": [
    "getwd()"
   ]
  },
  {
   "cell_type": "code",
   "execution_count": 6,
   "id": "2648ae18-b723-4369-8878-ed4eb19d1423",
   "metadata": {},
   "outputs": [],
   "source": [
    "#write.csv(course_csv, file='test_course.csv')\n",
    "#read.csv(file='test_course.csv')"
   ]
  },
  {
   "cell_type": "code",
   "execution_count": 7,
   "id": "0fc2c444-8460-46c0-93c6-f31e73bf71ff",
   "metadata": {},
   "outputs": [],
   "source": [
    "write_csv(course_csv, file='test_course.csv')"
   ]
  },
  {
   "cell_type": "code",
   "execution_count": 8,
   "id": "423a223a-f1a6-4984-b9fa-74bc8d23e6cc",
   "metadata": {},
   "outputs": [
    {
     "name": "stderr",
     "output_type": "stream",
     "text": [
      "\u001b[1mRows: \u001b[22m\u001b[34m6\u001b[39m \u001b[1mColumns: \u001b[22m\u001b[34m3\u001b[39m\n",
      "\u001b[36m──\u001b[39m \u001b[1mColumn specification\u001b[22m \u001b[36m────────────────────────────────────────────────────────\u001b[39m\n",
      "\u001b[1mDelimiter:\u001b[22m \",\"\n",
      "\u001b[31mchr\u001b[39m (1): Components\n",
      "\u001b[32mdbl\u001b[39m (1): Weights (%)\n",
      "\u001b[33mlgl\u001b[39m (1): Grades (%)\n",
      "\n",
      "\u001b[36mℹ\u001b[39m Use `spec()` to retrieve the full column specification for this data.\n",
      "\u001b[36mℹ\u001b[39m Specify the column types or set `show_col_types = FALSE` to quiet this message.\n"
     ]
    },
    {
     "data": {
      "text/html": [
       "<table class=\"dataframe\">\n",
       "<caption>A spec_tbl_df: 6 × 3</caption>\n",
       "<thead>\n",
       "\t<tr><th scope=col>Components</th><th scope=col>Weights (%)</th><th scope=col>Grades (%)</th></tr>\n",
       "\t<tr><th scope=col>&lt;chr&gt;</th><th scope=col>&lt;dbl&gt;</th><th scope=col>&lt;lgl&gt;</th></tr>\n",
       "</thead>\n",
       "<tbody>\n",
       "\t<tr><td>Assignment 1</td><td> 5</td><td>NA</td></tr>\n",
       "\t<tr><td>Assignment 2</td><td> 5</td><td>NA</td></tr>\n",
       "\t<tr><td>Quiz 1      </td><td>15</td><td>NA</td></tr>\n",
       "\t<tr><td>Quiz 2      </td><td>15</td><td>NA</td></tr>\n",
       "\t<tr><td>Midterm 1   </td><td>20</td><td>NA</td></tr>\n",
       "\t<tr><td>Final       </td><td>40</td><td>NA</td></tr>\n",
       "</tbody>\n",
       "</table>\n"
      ],
      "text/latex": [
       "A spec\\_tbl\\_df: 6 × 3\n",
       "\\begin{tabular}{lll}\n",
       " Components & Weights (\\%) & Grades (\\%)\\\\\n",
       " <chr> & <dbl> & <lgl>\\\\\n",
       "\\hline\n",
       "\t Assignment 1 &  5 & NA\\\\\n",
       "\t Assignment 2 &  5 & NA\\\\\n",
       "\t Quiz 1       & 15 & NA\\\\\n",
       "\t Quiz 2       & 15 & NA\\\\\n",
       "\t Midterm 1    & 20 & NA\\\\\n",
       "\t Final        & 40 & NA\\\\\n",
       "\\end{tabular}\n"
      ],
      "text/markdown": [
       "\n",
       "A spec_tbl_df: 6 × 3\n",
       "\n",
       "| Components &lt;chr&gt; | Weights (%) &lt;dbl&gt; | Grades (%) &lt;lgl&gt; |\n",
       "|---|---|---|\n",
       "| Assignment 1 |  5 | NA |\n",
       "| Assignment 2 |  5 | NA |\n",
       "| Quiz 1       | 15 | NA |\n",
       "| Quiz 2       | 15 | NA |\n",
       "| Midterm 1    | 20 | NA |\n",
       "| Final        | 40 | NA |\n",
       "\n"
      ],
      "text/plain": [
       "  Components   Weights (%) Grades (%)\n",
       "1 Assignment 1  5          NA        \n",
       "2 Assignment 2  5          NA        \n",
       "3 Quiz 1       15          NA        \n",
       "4 Quiz 2       15          NA        \n",
       "5 Midterm 1    20          NA        \n",
       "6 Final        40          NA        "
      ]
     },
     "metadata": {},
     "output_type": "display_data"
    }
   ],
   "source": [
    "read_csv(file='test_course.csv')"
   ]
  },
  {
   "cell_type": "code",
   "execution_count": 9,
   "id": "607267fa-1d81-47c1-8306-00c587e86d41",
   "metadata": {},
   "outputs": [],
   "source": [
    "###############"
   ]
  },
  {
   "cell_type": "code",
   "execution_count": 10,
   "id": "9eeffe89-9400-44e1-9847-fc6fdcecce04",
   "metadata": {},
   "outputs": [],
   "source": [
    "load_course <- function(input_file) {\n",
    "    read_csv(file=input_file)\n",
    "}"
   ]
  },
  {
   "cell_type": "code",
   "execution_count": 11,
   "id": "659aff30-d365-4e86-b94a-7c7001d70d4a",
   "metadata": {},
   "outputs": [
    {
     "name": "stderr",
     "output_type": "stream",
     "text": [
      "\u001b[1mRows: \u001b[22m\u001b[34m6\u001b[39m \u001b[1mColumns: \u001b[22m\u001b[34m3\u001b[39m\n",
      "\u001b[36m──\u001b[39m \u001b[1mColumn specification\u001b[22m \u001b[36m────────────────────────────────────────────────────────\u001b[39m\n",
      "\u001b[1mDelimiter:\u001b[22m \",\"\n",
      "\u001b[31mchr\u001b[39m (1): Components\n",
      "\u001b[32mdbl\u001b[39m (1): Weights (%)\n",
      "\u001b[33mlgl\u001b[39m (1): Grades (%)\n",
      "\n",
      "\u001b[36mℹ\u001b[39m Use `spec()` to retrieve the full column specification for this data.\n",
      "\u001b[36mℹ\u001b[39m Specify the column types or set `show_col_types = FALSE` to quiet this message.\n"
     ]
    },
    {
     "data": {
      "text/html": [
       "<table class=\"dataframe\">\n",
       "<caption>A spec_tbl_df: 6 × 3</caption>\n",
       "<thead>\n",
       "\t<tr><th scope=col>Components</th><th scope=col>Weights (%)</th><th scope=col>Grades (%)</th></tr>\n",
       "\t<tr><th scope=col>&lt;chr&gt;</th><th scope=col>&lt;dbl&gt;</th><th scope=col>&lt;lgl&gt;</th></tr>\n",
       "</thead>\n",
       "<tbody>\n",
       "\t<tr><td>Assignment 1</td><td> 5</td><td>NA</td></tr>\n",
       "\t<tr><td>Assignment 2</td><td> 5</td><td>NA</td></tr>\n",
       "\t<tr><td>Quiz 1      </td><td>15</td><td>NA</td></tr>\n",
       "\t<tr><td>Quiz 2      </td><td>15</td><td>NA</td></tr>\n",
       "\t<tr><td>Midterm 1   </td><td>20</td><td>NA</td></tr>\n",
       "\t<tr><td>Final       </td><td>40</td><td>NA</td></tr>\n",
       "</tbody>\n",
       "</table>\n"
      ],
      "text/latex": [
       "A spec\\_tbl\\_df: 6 × 3\n",
       "\\begin{tabular}{lll}\n",
       " Components & Weights (\\%) & Grades (\\%)\\\\\n",
       " <chr> & <dbl> & <lgl>\\\\\n",
       "\\hline\n",
       "\t Assignment 1 &  5 & NA\\\\\n",
       "\t Assignment 2 &  5 & NA\\\\\n",
       "\t Quiz 1       & 15 & NA\\\\\n",
       "\t Quiz 2       & 15 & NA\\\\\n",
       "\t Midterm 1    & 20 & NA\\\\\n",
       "\t Final        & 40 & NA\\\\\n",
       "\\end{tabular}\n"
      ],
      "text/markdown": [
       "\n",
       "A spec_tbl_df: 6 × 3\n",
       "\n",
       "| Components &lt;chr&gt; | Weights (%) &lt;dbl&gt; | Grades (%) &lt;lgl&gt; |\n",
       "|---|---|---|\n",
       "| Assignment 1 |  5 | NA |\n",
       "| Assignment 2 |  5 | NA |\n",
       "| Quiz 1       | 15 | NA |\n",
       "| Quiz 2       | 15 | NA |\n",
       "| Midterm 1    | 20 | NA |\n",
       "| Final        | 40 | NA |\n",
       "\n"
      ],
      "text/plain": [
       "  Components   Weights (%) Grades (%)\n",
       "1 Assignment 1  5          NA        \n",
       "2 Assignment 2  5          NA        \n",
       "3 Quiz 1       15          NA        \n",
       "4 Quiz 2       15          NA        \n",
       "5 Midterm 1    20          NA        \n",
       "6 Final        40          NA        "
      ]
     },
     "metadata": {},
     "output_type": "display_data"
    }
   ],
   "source": [
    "test <- load_course('test_course.csv')\n",
    "test"
   ]
  },
  {
   "cell_type": "code",
   "execution_count": 12,
   "id": "6f5645d5-8ea9-4e8b-8ee9-fd3d8ff25fed",
   "metadata": {},
   "outputs": [],
   "source": [
    "save_course_csv <- function(updated_course_df, output_file) {\n",
    "    write_csv(updated_course_df, file=output_file)\n",
    "}"
   ]
  },
  {
   "cell_type": "code",
   "execution_count": 13,
   "id": "f43f1f96-7a66-4070-a690-adcf1483af2a",
   "metadata": {},
   "outputs": [],
   "source": [
    "save_course_csv(test, 'test2_course.csv')"
   ]
  },
  {
   "cell_type": "code",
   "execution_count": 14,
   "id": "c8cca78c-f86a-433f-9b5a-bd29f76e8533",
   "metadata": {},
   "outputs": [
    {
     "data": {
      "text/html": [
       "<table class=\"dataframe\">\n",
       "<caption>A spec_tbl_df: 6 × 3</caption>\n",
       "<thead>\n",
       "\t<tr><th scope=col>Components</th><th scope=col>Weights (%)</th><th scope=col>Grades (%)</th></tr>\n",
       "\t<tr><th scope=col>&lt;chr&gt;</th><th scope=col>&lt;dbl&gt;</th><th scope=col>&lt;lgl&gt;</th></tr>\n",
       "</thead>\n",
       "<tbody>\n",
       "\t<tr><td>Assignment 1</td><td> 5</td><td>NA</td></tr>\n",
       "\t<tr><td>Assignment 2</td><td> 5</td><td>NA</td></tr>\n",
       "\t<tr><td>Quiz 1      </td><td>15</td><td>NA</td></tr>\n",
       "\t<tr><td>Quiz 2      </td><td>15</td><td>NA</td></tr>\n",
       "\t<tr><td>Midterm 1   </td><td>20</td><td>NA</td></tr>\n",
       "\t<tr><td>Final       </td><td>40</td><td>NA</td></tr>\n",
       "</tbody>\n",
       "</table>\n"
      ],
      "text/latex": [
       "A spec\\_tbl\\_df: 6 × 3\n",
       "\\begin{tabular}{lll}\n",
       " Components & Weights (\\%) & Grades (\\%)\\\\\n",
       " <chr> & <dbl> & <lgl>\\\\\n",
       "\\hline\n",
       "\t Assignment 1 &  5 & NA\\\\\n",
       "\t Assignment 2 &  5 & NA\\\\\n",
       "\t Quiz 1       & 15 & NA\\\\\n",
       "\t Quiz 2       & 15 & NA\\\\\n",
       "\t Midterm 1    & 20 & NA\\\\\n",
       "\t Final        & 40 & NA\\\\\n",
       "\\end{tabular}\n"
      ],
      "text/markdown": [
       "\n",
       "A spec_tbl_df: 6 × 3\n",
       "\n",
       "| Components &lt;chr&gt; | Weights (%) &lt;dbl&gt; | Grades (%) &lt;lgl&gt; |\n",
       "|---|---|---|\n",
       "| Assignment 1 |  5 | NA |\n",
       "| Assignment 2 |  5 | NA |\n",
       "| Quiz 1       | 15 | NA |\n",
       "| Quiz 2       | 15 | NA |\n",
       "| Midterm 1    | 20 | NA |\n",
       "| Final        | 40 | NA |\n",
       "\n"
      ],
      "text/plain": [
       "  Components   Weights (%) Grades (%)\n",
       "1 Assignment 1  5          NA        \n",
       "2 Assignment 2  5          NA        \n",
       "3 Quiz 1       15          NA        \n",
       "4 Quiz 2       15          NA        \n",
       "5 Midterm 1    20          NA        \n",
       "6 Final        40          NA        "
      ]
     },
     "metadata": {},
     "output_type": "display_data"
    }
   ],
   "source": [
    "test"
   ]
  },
  {
   "cell_type": "code",
   "execution_count": 15,
   "id": "eb1434e4-9b88-42bd-b592-d73f8a61d9f1",
   "metadata": {},
   "outputs": [
    {
     "name": "stderr",
     "output_type": "stream",
     "text": [
      "\u001b[1mRows: \u001b[22m\u001b[34m6\u001b[39m \u001b[1mColumns: \u001b[22m\u001b[34m3\u001b[39m\n",
      "\u001b[36m──\u001b[39m \u001b[1mColumn specification\u001b[22m \u001b[36m────────────────────────────────────────────────────────\u001b[39m\n",
      "\u001b[1mDelimiter:\u001b[22m \",\"\n",
      "\u001b[31mchr\u001b[39m (1): Components\n",
      "\u001b[32mdbl\u001b[39m (1): Weights (%)\n",
      "\u001b[33mlgl\u001b[39m (1): Grades (%)\n",
      "\n",
      "\u001b[36mℹ\u001b[39m Use `spec()` to retrieve the full column specification for this data.\n",
      "\u001b[36mℹ\u001b[39m Specify the column types or set `show_col_types = FALSE` to quiet this message.\n"
     ]
    },
    {
     "data": {
      "text/html": [
       "<table class=\"dataframe\">\n",
       "<caption>A spec_tbl_df: 6 × 3</caption>\n",
       "<thead>\n",
       "\t<tr><th scope=col>Components</th><th scope=col>Weights (%)</th><th scope=col>Grades (%)</th></tr>\n",
       "\t<tr><th scope=col>&lt;chr&gt;</th><th scope=col>&lt;dbl&gt;</th><th scope=col>&lt;lgl&gt;</th></tr>\n",
       "</thead>\n",
       "<tbody>\n",
       "\t<tr><td>Assignment 1</td><td> 5</td><td>NA</td></tr>\n",
       "\t<tr><td>Assignment 2</td><td> 5</td><td>NA</td></tr>\n",
       "\t<tr><td>Quiz 1      </td><td>15</td><td>NA</td></tr>\n",
       "\t<tr><td>Quiz 2      </td><td>15</td><td>NA</td></tr>\n",
       "\t<tr><td>Midterm 1   </td><td>20</td><td>NA</td></tr>\n",
       "\t<tr><td>Final       </td><td>40</td><td>NA</td></tr>\n",
       "</tbody>\n",
       "</table>\n"
      ],
      "text/latex": [
       "A spec\\_tbl\\_df: 6 × 3\n",
       "\\begin{tabular}{lll}\n",
       " Components & Weights (\\%) & Grades (\\%)\\\\\n",
       " <chr> & <dbl> & <lgl>\\\\\n",
       "\\hline\n",
       "\t Assignment 1 &  5 & NA\\\\\n",
       "\t Assignment 2 &  5 & NA\\\\\n",
       "\t Quiz 1       & 15 & NA\\\\\n",
       "\t Quiz 2       & 15 & NA\\\\\n",
       "\t Midterm 1    & 20 & NA\\\\\n",
       "\t Final        & 40 & NA\\\\\n",
       "\\end{tabular}\n"
      ],
      "text/markdown": [
       "\n",
       "A spec_tbl_df: 6 × 3\n",
       "\n",
       "| Components &lt;chr&gt; | Weights (%) &lt;dbl&gt; | Grades (%) &lt;lgl&gt; |\n",
       "|---|---|---|\n",
       "| Assignment 1 |  5 | NA |\n",
       "| Assignment 2 |  5 | NA |\n",
       "| Quiz 1       | 15 | NA |\n",
       "| Quiz 2       | 15 | NA |\n",
       "| Midterm 1    | 20 | NA |\n",
       "| Final        | 40 | NA |\n",
       "\n"
      ],
      "text/plain": [
       "  Components   Weights (%) Grades (%)\n",
       "1 Assignment 1  5          NA        \n",
       "2 Assignment 2  5          NA        \n",
       "3 Quiz 1       15          NA        \n",
       "4 Quiz 2       15          NA        \n",
       "5 Midterm 1    20          NA        \n",
       "6 Final        40          NA        "
      ]
     },
     "metadata": {},
     "output_type": "display_data"
    },
    {
     "data": {
      "text/html": [
       "<table class=\"dataframe\">\n",
       "<caption>A spec_tbl_df: 6 × 3</caption>\n",
       "<thead>\n",
       "\t<tr><th scope=col>Components</th><th scope=col>Weights (%)</th><th scope=col>Grades (%)</th></tr>\n",
       "\t<tr><th scope=col>&lt;chr&gt;</th><th scope=col>&lt;dbl&gt;</th><th scope=col>&lt;dbl&gt;</th></tr>\n",
       "</thead>\n",
       "<tbody>\n",
       "\t<tr><td>Assignment 1</td><td> 5</td><td>NA</td></tr>\n",
       "\t<tr><td>Assignment 2</td><td> 5</td><td>95</td></tr>\n",
       "\t<tr><td>Quiz 1      </td><td>15</td><td>NA</td></tr>\n",
       "\t<tr><td>Quiz 2      </td><td>15</td><td>NA</td></tr>\n",
       "\t<tr><td>Midterm 1   </td><td>20</td><td>NA</td></tr>\n",
       "\t<tr><td>Final       </td><td>40</td><td>NA</td></tr>\n",
       "</tbody>\n",
       "</table>\n"
      ],
      "text/latex": [
       "A spec\\_tbl\\_df: 6 × 3\n",
       "\\begin{tabular}{lll}\n",
       " Components & Weights (\\%) & Grades (\\%)\\\\\n",
       " <chr> & <dbl> & <dbl>\\\\\n",
       "\\hline\n",
       "\t Assignment 1 &  5 & NA\\\\\n",
       "\t Assignment 2 &  5 & 95\\\\\n",
       "\t Quiz 1       & 15 & NA\\\\\n",
       "\t Quiz 2       & 15 & NA\\\\\n",
       "\t Midterm 1    & 20 & NA\\\\\n",
       "\t Final        & 40 & NA\\\\\n",
       "\\end{tabular}\n"
      ],
      "text/markdown": [
       "\n",
       "A spec_tbl_df: 6 × 3\n",
       "\n",
       "| Components &lt;chr&gt; | Weights (%) &lt;dbl&gt; | Grades (%) &lt;dbl&gt; |\n",
       "|---|---|---|\n",
       "| Assignment 1 |  5 | NA |\n",
       "| Assignment 2 |  5 | 95 |\n",
       "| Quiz 1       | 15 | NA |\n",
       "| Quiz 2       | 15 | NA |\n",
       "| Midterm 1    | 20 | NA |\n",
       "| Final        | 40 | NA |\n",
       "\n"
      ],
      "text/plain": [
       "  Components   Weights (%) Grades (%)\n",
       "1 Assignment 1  5          NA        \n",
       "2 Assignment 2  5          95        \n",
       "3 Quiz 1       15          NA        \n",
       "4 Quiz 2       15          NA        \n",
       "5 Midterm 1    20          NA        \n",
       "6 Final        40          NA        "
      ]
     },
     "metadata": {},
     "output_type": "display_data"
    }
   ],
   "source": [
    "test <- load_course(\"test_course.csv\")\n",
    "test\n",
    "\n",
    "test$`Grades (%)`[test$Components == \"Assignment 2\"] = 95\n",
    "\n",
    "test"
   ]
  },
  {
   "cell_type": "code",
   "execution_count": 16,
   "id": "f8807553-5c32-46d9-bcf2-1c24f5d142bd",
   "metadata": {},
   "outputs": [
    {
     "data": {
      "text/html": [
       "<style>\n",
       ".list-inline {list-style: none; margin:0; padding: 0}\n",
       ".list-inline>li {display: inline-block}\n",
       ".list-inline>li:not(:last-child)::after {content: \"\\00b7\"; padding: 0 .5ex}\n",
       "</style>\n",
       "<ol class=list-inline><li>TRUE</li><li>FALSE</li><li>FALSE</li><li>FALSE</li><li>FALSE</li><li>FALSE</li></ol>\n"
      ],
      "text/latex": [
       "\\begin{enumerate*}\n",
       "\\item TRUE\n",
       "\\item FALSE\n",
       "\\item FALSE\n",
       "\\item FALSE\n",
       "\\item FALSE\n",
       "\\item FALSE\n",
       "\\end{enumerate*}\n"
      ],
      "text/markdown": [
       "1. TRUE\n",
       "2. FALSE\n",
       "3. FALSE\n",
       "4. FALSE\n",
       "5. FALSE\n",
       "6. FALSE\n",
       "\n",
       "\n"
      ],
      "text/plain": [
       "[1]  TRUE FALSE FALSE FALSE FALSE FALSE"
      ]
     },
     "metadata": {},
     "output_type": "display_data"
    }
   ],
   "source": [
    "test$Components == \"Assignment 1\""
   ]
  },
  {
   "cell_type": "code",
   "execution_count": 25,
   "id": "1a011cca-4eed-411f-9847-36f42f03f4c7",
   "metadata": {},
   "outputs": [
    {
     "data": {
      "text/html": [
       "<table class=\"dataframe\">\n",
       "<caption>A spec_tbl_df: 6 × 3</caption>\n",
       "<thead>\n",
       "\t<tr><th scope=col>Components</th><th scope=col>Weights (%)</th><th scope=col>Grades (%)</th></tr>\n",
       "\t<tr><th scope=col>&lt;chr&gt;</th><th scope=col>&lt;dbl&gt;</th><th scope=col>&lt;dbl&gt;</th></tr>\n",
       "</thead>\n",
       "<tbody>\n",
       "\t<tr><td>Assignment 1</td><td> 5</td><td>NA</td></tr>\n",
       "\t<tr><td>Assignment 2</td><td> 5</td><td>95</td></tr>\n",
       "\t<tr><td>Quiz 1      </td><td>15</td><td>NA</td></tr>\n",
       "\t<tr><td>Quiz 2      </td><td>15</td><td>NA</td></tr>\n",
       "\t<tr><td>Midterm 1   </td><td>20</td><td>NA</td></tr>\n",
       "\t<tr><td>Final       </td><td>40</td><td>NA</td></tr>\n",
       "</tbody>\n",
       "</table>\n"
      ],
      "text/latex": [
       "A spec\\_tbl\\_df: 6 × 3\n",
       "\\begin{tabular}{lll}\n",
       " Components & Weights (\\%) & Grades (\\%)\\\\\n",
       " <chr> & <dbl> & <dbl>\\\\\n",
       "\\hline\n",
       "\t Assignment 1 &  5 & NA\\\\\n",
       "\t Assignment 2 &  5 & 95\\\\\n",
       "\t Quiz 1       & 15 & NA\\\\\n",
       "\t Quiz 2       & 15 & NA\\\\\n",
       "\t Midterm 1    & 20 & NA\\\\\n",
       "\t Final        & 40 & NA\\\\\n",
       "\\end{tabular}\n"
      ],
      "text/markdown": [
       "\n",
       "A spec_tbl_df: 6 × 3\n",
       "\n",
       "| Components &lt;chr&gt; | Weights (%) &lt;dbl&gt; | Grades (%) &lt;dbl&gt; |\n",
       "|---|---|---|\n",
       "| Assignment 1 |  5 | NA |\n",
       "| Assignment 2 |  5 | 95 |\n",
       "| Quiz 1       | 15 | NA |\n",
       "| Quiz 2       | 15 | NA |\n",
       "| Midterm 1    | 20 | NA |\n",
       "| Final        | 40 | NA |\n",
       "\n"
      ],
      "text/plain": [
       "  Components   Weights (%) Grades (%)\n",
       "1 Assignment 1  5          NA        \n",
       "2 Assignment 2  5          95        \n",
       "3 Quiz 1       15          NA        \n",
       "4 Quiz 2       15          NA        \n",
       "5 Midterm 1    20          NA        \n",
       "6 Final        40          NA        "
      ]
     },
     "metadata": {},
     "output_type": "display_data"
    }
   ],
   "source": [
    "test "
   ]
  },
  {
   "cell_type": "code",
   "execution_count": 28,
   "id": "f1d3f126-e231-4153-97f5-2a8b76ef5590",
   "metadata": {},
   "outputs": [
    {
     "data": {
      "text/html": [
       "95"
      ],
      "text/latex": [
       "95"
      ],
      "text/markdown": [
       "95"
      ],
      "text/plain": [
       "[1] 95"
      ]
     },
     "metadata": {},
     "output_type": "display_data"
    }
   ],
   "source": [
    "(test$`Grades (%)`[test$Components == \"Assignment 2\"])"
   ]
  },
  {
   "cell_type": "code",
   "execution_count": 18,
   "id": "c43bd981-332a-418c-a2d7-cacbd710fb92",
   "metadata": {},
   "outputs": [
    {
     "data": {
      "text/html": [
       "95.12"
      ],
      "text/latex": [
       "95.12"
      ],
      "text/markdown": [
       "95.12"
      ],
      "text/plain": [
       "[1] 95.12"
      ]
     },
     "metadata": {},
     "output_type": "display_data"
    }
   ],
   "source": [
    "round(95.123, 2)"
   ]
  },
  {
   "cell_type": "code",
   "execution_count": 19,
   "id": "0f82321d-3ed2-48cc-8bf6-6547ae96f91f",
   "metadata": {},
   "outputs": [],
   "source": [
    "update_component_grade <- function(input_file, component, grade) {\n",
    "    \n",
    "    df <- load_course(input_file) \n",
    "    df$`Grades (%)`[df$Components == component] <- round(grade, 2)\n",
    "    save_course_csv(df, input_file)\n",
    "    \n",
    "}"
   ]
  },
  {
   "cell_type": "code",
   "execution_count": 20,
   "id": "0bf1f093-2b40-416b-853b-bcb5f2d4face",
   "metadata": {},
   "outputs": [
    {
     "name": "stderr",
     "output_type": "stream",
     "text": [
      "\u001b[1mRows: \u001b[22m\u001b[34m6\u001b[39m \u001b[1mColumns: \u001b[22m\u001b[34m3\u001b[39m\n",
      "\u001b[36m──\u001b[39m \u001b[1mColumn specification\u001b[22m \u001b[36m────────────────────────────────────────────────────────\u001b[39m\n",
      "\u001b[1mDelimiter:\u001b[22m \",\"\n",
      "\u001b[31mchr\u001b[39m (1): Components\n",
      "\u001b[32mdbl\u001b[39m (1): Weights (%)\n",
      "\u001b[33mlgl\u001b[39m (1): Grades (%)\n",
      "\n",
      "\u001b[36mℹ\u001b[39m Use `spec()` to retrieve the full column specification for this data.\n",
      "\u001b[36mℹ\u001b[39m Specify the column types or set `show_col_types = FALSE` to quiet this message.\n",
      "\u001b[1mRows: \u001b[22m\u001b[34m6\u001b[39m \u001b[1mColumns: \u001b[22m\u001b[34m3\u001b[39m\n",
      "\u001b[36m──\u001b[39m \u001b[1mColumn specification\u001b[22m \u001b[36m────────────────────────────────────────────────────────\u001b[39m\n",
      "\u001b[1mDelimiter:\u001b[22m \",\"\n",
      "\u001b[31mchr\u001b[39m (1): Components\n",
      "\u001b[32mdbl\u001b[39m (2): Weights (%), Grades (%)\n",
      "\n",
      "\u001b[36mℹ\u001b[39m Use `spec()` to retrieve the full column specification for this data.\n",
      "\u001b[36mℹ\u001b[39m Specify the column types or set `show_col_types = FALSE` to quiet this message.\n"
     ]
    }
   ],
   "source": [
    "update_component_grade(\"test_course.csv\", \"Assignment 2\", 93.233)\n",
    "update_component_grade(\"test_course.csv\", \"Assignment 1\", 95.555)"
   ]
  },
  {
   "cell_type": "code",
   "execution_count": 21,
   "id": "b03a3694-55ca-464c-8eb4-145db5ac76ff",
   "metadata": {},
   "outputs": [],
   "source": [
    "##################"
   ]
  },
  {
   "cell_type": "code",
   "execution_count": 24,
   "id": "6105097a-1063-481b-881a-33e568e1ca0c",
   "metadata": {},
   "outputs": [
    {
     "ename": "ERROR",
     "evalue": "Error in parse(text = x, srcfile = src): <text>:1:6: unexpected symbol\n1: from gradecalculatorpy.update_grades\n         ^\n",
     "output_type": "error",
     "traceback": [
      "Error in parse(text = x, srcfile = src): <text>:1:6: unexpected symbol\n1: from gradecalculatorpy.update_grades\n         ^\nTraceback:\n"
     ]
    }
   ],
   "source": [
    "from gradecalculatorpy.update_grades import update_assignment_grade\n",
    "import pandas as pd\n",
    "\n",
    "\n",
    "def test_update_grades_correctly():\n",
    "    '''Test that updates the grade of component 'Midterm 2' in dummycourse.csv and checks if it was updated correctly'''\n",
    "    \n",
    "    # set values\n",
    "    input_file_path = 'tests/dummycourse.csv'\n",
    "    component = 'Midterm 2'\n",
    "    expected = 92.3 \n",
    "\n",
    "    # call function \n",
    "    update_assignment_grade(input_file_path, component, expected)\n",
    "\n",
    "    # compare output with expected grade\n",
    "    df = pd.read_csv(input_file_path, index_col=0)\n",
    "    assert df.query('Components == @component')['Grades (%)'].to_list()[0] == expected, \"Course component not updated correctly!\"\n",
    "\n",
    "     \n",
    "def test_only_one_changed():\n",
    "    '''Test that ensures only the one row that was specified was changed'''\n",
    "    \n",
    "    # set values \n",
    "    input_file_path = 'tests/dummycourse.csv'\n",
    "    component = 'Assignment 3'\n",
    "    updated_grade = 97 \n",
    "\n",
    "    # get original grades list \n",
    "    df = pd.read_csv(input_file_path, index_col=0)\n",
    "    og_grades_list = list(df['Grades (%)'])\n",
    "\n",
    "    # update csv and get new list\n",
    "    update_assignment_grade(input_file_path, component, updated_grade)\n",
    "    df2 = pd.read_csv(input_file_path, index_col=0)\n",
    "    df2_grades_list = list(df2['Grades (%)'])\n",
    "\n",
    "    # get index of component \n",
    "    comp_index = df.query('Components == @component').index[0]\n",
    "\n",
    "    # update original grades list with expected grade \n",
    "    og_grades_list[comp_index] = updated_grade \n",
    "\n",
    "    # compare the two lists \n",
    "    assert df2_grades_list == og_grades_list, 'Grade (%) column not correct!'\n",
    "    \n",
    "    \n",
    "def test_df_shape():\n",
    "    '''Test that ensures the shape of the dataframe is still the same after updating''' \n",
    "    \n",
    "    # set values\n",
    "    input_file_path = 'tests/dummycourse.csv'\n",
    "    component = 'Final Exam'\n",
    "    updated_grade = 99\n",
    "    \n",
    "    # read original dataframe size \n",
    "    df = pd.read_csv(input_file_path, index_col=0)\n",
    "\n",
    "    # call function \n",
    "    update_assignment_grade(input_file_path, component, updated_grade)\n",
    "    df2 = pd.read_csv(input_file_path, index_col=0)\n",
    "\n",
    "    # compare new dataframe size \n",
    "    assert df.shape == df.shape, 'Updated dataframe has wrong size'"
   ]
  },
  {
   "cell_type": "code",
   "execution_count": 22,
   "id": "e152c8b3-0b28-448b-a2f4-4ef84527bd2f",
   "metadata": {},
   "outputs": [
    {
     "name": "stderr",
     "output_type": "stream",
     "text": [
      "\u001b[32m✔\u001b[39m Setting active project to \u001b[34m'/Users/shirley/Desktop/DSCI524_collabsoft/gradecalculatorr'\u001b[39m\n",
      "\u001b[31m•\u001b[39m Call \u001b[90m`use_test()`\u001b[39m to initialize a basic test file and open it for editing.\n"
     ]
    }
   ],
   "source": [
    "use_testthat()"
   ]
  },
  {
   "cell_type": "code",
   "execution_count": 23,
   "id": "6e5b22b1-0eb0-404b-82c4-2a9acdce5e7d",
   "metadata": {},
   "outputs": [
    {
     "name": "stderr",
     "output_type": "stream",
     "text": [
      "\u001b[32m✔\u001b[39m Writing \u001b[34m'tests/testthat/test-update_grades.R'\u001b[39m\n",
      "\u001b[31m•\u001b[39m Edit \u001b[34m'tests/testthat/test-update_grades.R'\u001b[39m\n"
     ]
    }
   ],
   "source": [
    "use_test(\"update_grades\")"
   ]
  },
  {
   "cell_type": "code",
   "execution_count": null,
   "id": "59748e0b-6c80-449b-bee1-2f4a3abdbfc9",
   "metadata": {},
   "outputs": [],
   "source": [
    "test_that(\"strsplit1() splits a string\", {\n",
    "    \n",
    "  expect_equal(strsplit1(\"a,b,c\", split = \",\"), c(\"a\", \"b\", \"c\"))\n",
    "    \n",
    "})"
   ]
  }
 ],
 "metadata": {
  "kernelspec": {
   "display_name": "R",
   "language": "R",
   "name": "ir"
  },
  "language_info": {
   "codemirror_mode": "r",
   "file_extension": ".r",
   "mimetype": "text/x-r-source",
   "name": "R",
   "pygments_lexer": "r",
   "version": "4.2.1"
  }
 },
 "nbformat": 4,
 "nbformat_minor": 5
}
